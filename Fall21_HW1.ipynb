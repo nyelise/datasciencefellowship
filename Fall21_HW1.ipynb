{
 "cells": [
  {
   "cell_type": "markdown",
   "metadata": {
    "id": "1rnIuPR8EPpQ"
   },
   "source": [
    "## Problem 1\n",
    "\n",
    "In this problem, you will practice training and evaluating a machine learning model on a simple dataset with Scikit-Learn. We will use the Decision Tree algorithm to demonstrate a typical training process.\n",
    "\n",
    "Simply put, the idea of training a predictive model is that, given the available data, we want the model to learn the relationship between some underlying patterns within the data and the expected outputs. We hope that after the learning process, the model will be able to reliably predict the outputs of future unseen data.\n",
    "\n",
    "How do we estimate our model's performance on future unseen data even though we do not have access to such data at the moment? If we can safely assume that the future data follows the same distribution as our training data, we can simulate the future scenario by splitting our available data into a training set and a testing set. We train our model on the training set and evaluate it on the testing set, which serves as a proxy for future data because our model never sees the examples from the testing set during training.\n",
    "\n",
    "If we assume the future data follows the same distribution as our current data, why bother splitting? We can just use the model's training performance as the estimate for future performance. This is actually not true. After all, the current data and the future data are just 2 samples of a distribution so there are still differences and variations between them. You may have a \"lucky\" training set that leads to high training performance. Worse, your machine learning model may have memorized the specific details of the current dataset instead of figuring out the general patterns. In that case, we say the model has overfitted the training data. Overfitted model performs poorly on unseen data that it has not \"memorized\" yet. "
   ]
  },
  {
   "cell_type": "markdown",
   "metadata": {
    "id": "WfdafgFTCdno"
   },
   "source": [
    "# Homework 1\n",
    "\n",
    "**DUE Monday, OCT 11th by 11:59PM**\n",
    "\n",
    "The homework in this course is distributed and submitted as iPython notebooks. \n",
    "\n",
    "In an iPython notebook, chunks of codes or texts are executed in individual cells. Texts are written in Markdown cell, as you can see in the homework instructions below. Codes are written in code cells. Cells are run one at a time. You can change the cell type by navigating to Cell -> Cell Type.\n",
    "\n",
    "There are spaces for you to enter your answers to the questions, either in code or text. Feel free to add more cells if you need (likely).\n",
    "\n",
    "In many parts, some Scikit-learn functions and classes have already been imported to give you leads on what you may need to use. You still need to refer to the Scikit-learn documentation to learn how the classes and methods work. You are free to use other Python data science libraries (NumPy, Pandas, SciPy, Matplotlib/Seaborn, statsmodel, etc). If you are not sure if a library is accepted, please ask.\n",
    "\n",
    "You are expected to turn in a **pdf version** of this notebook with all your **codes, results, and figures** to **GradeScope**. Make sure the figures and results are visible as you want them to appear in the pdf before turning it in. Please do not modify the instructions as doing so will limit our ability to follow and grade your answers."
   ]
  },
  {
   "cell_type": "markdown",
   "metadata": {
    "id": "dhdEL6i4VxzH"
   },
   "source": [
    "a) Load the data from '**bean.csv**', which is a dataset for predicting bean shapes. There are 13611 learning examples, 17 features, and 4 classes. The first row contains the names of the columns and the last column contains the labels. Store the data and the labels in variables ***X*** and ***y***, respectively."
   ]
  },
  {
   "cell_type": "code",
   "execution_count": 1,
   "metadata": {
    "id": "zEql4zK6EQ9d"
   },
   "outputs": [],
   "source": [
    "import pandas as pd"
   ]
  },
  {
   "cell_type": "code",
   "execution_count": 2,
   "metadata": {},
   "outputs": [],
   "source": [
    "import numpy as np"
   ]
  },
  {
   "cell_type": "code",
   "execution_count": 3,
   "metadata": {},
   "outputs": [],
   "source": [
    "# import beans csv\n",
    "bean = pd.read_csv(\"~/Desktop/class/bean.csv\")\n",
    "bean.head()\n",
    "\n",
    "# drop last column to make df x\n",
    "x = bean.drop(columns = [\"Class\"]).copy()\n",
    "\n",
    "# select column 17 (class) to make df y\n",
    "y = bean[\"Class\"]\n"
   ]
  },
  {
   "cell_type": "markdown",
   "metadata": {
    "id": "L9K-nXR8WJKQ"
   },
   "source": [
    "Split the data into a training set and a testing set. Use 80% of the data for training and the remaining 20% for testing."
   ]
  },
  {
   "cell_type": "code",
   "execution_count": 4,
   "metadata": {
    "id": "4J98npDmWJ8k"
   },
   "outputs": [],
   "source": [
    "from sklearn.model_selection import train_test_split"
   ]
  },
  {
   "cell_type": "code",
   "execution_count": 5,
   "metadata": {},
   "outputs": [
    {
     "name": "stdout",
     "output_type": "stream",
     "text": [
      "10888 x_train examples\n",
      "2723 x_test examples\n",
      "10888 y_train examples\n",
      "2723 y_test examples\n"
     ]
    }
   ],
   "source": [
    "# split data into training and test data\n",
    "x_train, x_test = train_test_split(x, test_size=0.2)\n",
    "y_train, y_test = train_test_split(y, test_size=0.2)\n",
    "\n",
    "\n",
    "# check examples for reasonableness\n",
    "print(len(x_train), 'x_train examples')\n",
    "print(len(x_test), 'x_test examples')\n",
    "print(len(y_train), 'y_train examples')\n",
    "print(len(y_test), 'y_test examples')"
   ]
  },
  {
   "cell_type": "markdown",
   "metadata": {
    "id": "ws-cBleJWZej"
   },
   "source": [
    "Initiate a Decision Tree model from Scikit-Learn. Fit the model on the training set. Print the training performance."
   ]
  },
  {
   "cell_type": "code",
   "execution_count": 6,
   "metadata": {
    "id": "iioupdRHWYkF"
   },
   "outputs": [],
   "source": [
    "from sklearn.tree import DecisionTreeClassifier\n",
    "from sklearn.metrics import accuracy_score"
   ]
  },
  {
   "cell_type": "code",
   "execution_count": 7,
   "metadata": {},
   "outputs": [
    {
     "name": "stdout",
     "output_type": "stream",
     "text": [
      "Decision Tree prediction accuracy training 0.9966936076414401\n"
     ]
    }
   ],
   "source": [
    "# create a single decision tree\n",
    "tree = DecisionTreeClassifier()\n",
    "\n",
    "# train the model / fit onto training set\n",
    "tree.fit(x_train, y_train)\n",
    "\n",
    "# check training performance\n",
    "predictions = tree.predict(x_train)\n",
    "\n",
    "# evaluate accuracy of training performance\n",
    "currAccuracy = accuracy_score(y_train, predictions)\n",
    "\n",
    "# print training performance\n",
    "print('Decision Tree prediction accuracy training', currAccuracy)"
   ]
  },
  {
   "cell_type": "markdown",
   "metadata": {
    "id": "428ExXfiWx4j"
   },
   "source": [
    "Evaluate the model on the testing set. Print the testing performance. Is the testing performance the same as the training performance?"
   ]
  },
  {
   "cell_type": "code",
   "execution_count": 8,
   "metadata": {
    "id": "kZveBKFjWtTD"
   },
   "outputs": [
    {
     "name": "stdout",
     "output_type": "stream",
     "text": [
      "Decision Tree prediction accuracy testing 0.1652589056188028\n"
     ]
    }
   ],
   "source": [
    "# check testing performance\n",
    "predictions = tree.predict(x_test)\n",
    "\n",
    "# evaluate accuracy of testing performance\n",
    "currAccuracy = accuracy_score(y_test, predictions)\n",
    "\n",
    "# print testing performance\n",
    "print('Decision Tree prediction accuracy testing', currAccuracy)"
   ]
  },
  {
   "cell_type": "markdown",
   "metadata": {},
   "source": [
    "testing performance is not the same as training performance"
   ]
  },
  {
   "cell_type": "markdown",
   "metadata": {
    "id": "HrVr9HVIW89X"
   },
   "source": [
    "Now that have a routine for evaluating our model, is it enough to conclude about our model performance? To be more specific, assume that we have a training set **A** and a testing set **B**. If we train **Decision Tree** model and a **Support Vector Machine** model on **A** and evaluate them on **B**, can we say **Support Vector Machine** is better or worse than **Decision Tree** based on their training performances on **A** or testing performances on **B**? The answer is no because **A** and **B** are just one scenario. We may just have a scenario that is more favorable for **Support Vector Machine** than for **Decision Tree**. To reliably conclude whether a machine learning algorithm is better than another for a specific problem, we need to collect results from multiple scenarios and compare the average performance. Since we only have limited data available to us, we need to use **multi-fold cross-validation** to create multiple **train-validation** scenarios (**Notice**: we use the term **train-validation** instead of **train-test** in **cross-validation** for a reason we will mention in **Problem 3** where we touched model tuning).\n",
    "\n",
    "In **multi-fold cross-validation**, the dataset is splitted into multiple folds of equal size. Each iteration, we pick a fold to be a **validation set** and let the combination of the remaining folds be the **training set**. For example, in **5-fold cross-validation**, we can create **5** different **train-validation** scenarios. Note that for each scenario, you have to reinitiate your model and start training from scratch.  "
   ]
  },
  {
   "cell_type": "markdown",
   "metadata": {
    "id": "ijFF9Vpnecln"
   },
   "source": [
    "b) Split the dataset into **5 folds** and store them (for example, a list of lists). Remember to shuffle the data before splitting so that each fold has a reasonable number of examples from different classes. You must do the splitting without any libraries. "
   ]
  },
  {
   "cell_type": "code",
   "execution_count": 9,
   "metadata": {
    "id": "w055UcJoffey"
   },
   "outputs": [
    {
     "name": "stdout",
     "output_type": "stream",
     "text": [
      "[0.89680499 0.88721528 0.90668626 0.89125643 0.89382807]\n"
     ]
    }
   ],
   "source": [
    "from sklearn.model_selection import cross_val_score\n",
    "\n",
    "# import beans csv\n",
    "bean = pd.read_csv(\"~/Desktop/class/bean.csv\")\n",
    "\n",
    "# shuffling the data\n",
    "bean = bean.sample(frac=1).reset_index(drop=True)\n",
    "\n",
    "# drop last column to make df x\n",
    "x = bean.drop(columns = [\"Class\"]).copy()\n",
    "\n",
    "# select column 17 (class) to make df y\n",
    "y = bean[\"Class\"]\n",
    "\n",
    "# cross validate and check for reasonableness\n",
    "dt = DecisionTreeClassifier()\n",
    "dt.fit(x, y)\n",
    "scores = cross_val_score(dt, x, y, cv=5)\n",
    "print(scores)\n",
    "\n",
    "# split dataset into 5 folds\n",
    "split1 = bean.iloc[0:2722]\n",
    "split2 = bean.iloc[2722:5445]\n",
    "split3 = bean.iloc[5445:8166]\n",
    "split4 = bean.iloc[8166:10888]\n",
    "split5 = bean.iloc[10888:]"
   ]
  },
  {
   "cell_type": "markdown",
   "metadata": {
    "id": "6sRx2cT3fiIC"
   },
   "source": [
    "For each **train-validation** scenario, initiate a new **Decision Tree** model, train it on the **training set** and evaluate it on the **validation set**. Record the training performances and testing performances of all scenarios."
   ]
  },
  {
   "cell_type": "code",
   "execution_count": 10,
   "metadata": {},
   "outputs": [
    {
     "name": "stdout",
     "output_type": "stream",
     "text": [
      "Decision Tree 1 training 1.0\n",
      "Decision Tree 1 validation 0.896399706098457\n"
     ]
    }
   ],
   "source": [
    "# set up dataframes\n",
    "scenario1 = bean.iloc[2723:]\n",
    "x_test1 = split1.drop(columns = [\"Class\"]).copy()\n",
    "y_test1 = split1[\"Class\"]\n",
    "x_train1 = scenario1.drop(columns = [\"Class\"]).copy()\n",
    "y_train1 = scenario1[\"Class\"]\n",
    "\n",
    "# create a single decision tree\n",
    "tree = DecisionTreeClassifier()\n",
    "\n",
    "# train the model / fit onto training set\n",
    "tree.fit(x_train1, y_train1)\n",
    "\n",
    "# check performance on training set\n",
    "predictions = tree.predict(x_train1)\n",
    "\n",
    "# evaluate accuracy of training performance\n",
    "trainscore_1 = accuracy_score(y_train1, predictions)\n",
    "\n",
    "# print training performance\n",
    "print('Decision Tree 1 training', trainscore_1)\n",
    "\n",
    "# check performance on validation set\n",
    "predictions = tree.predict(x_test1)\n",
    "\n",
    "# evaluate accuracy of validation performance\n",
    "testscore_1 = accuracy_score(y_test1, predictions)\n",
    "\n",
    "# print validation performance\n",
    "print('Decision Tree 1 validation', testscore_1)\n"
   ]
  },
  {
   "cell_type": "code",
   "execution_count": 11,
   "metadata": {},
   "outputs": [
    {
     "name": "stdout",
     "output_type": "stream",
     "text": [
      "Decision Tree 2 training 1.0\n",
      "Decision Tree 2 validation 0.8850532500918105\n"
     ]
    }
   ],
   "source": [
    "# scenario 2\n",
    "scenario2 = bean.drop(bean.index[2723:5444])\n",
    "x_test2 = split2.drop(columns = [\"Class\"]).copy()\n",
    "y_test2 = split2[\"Class\"]\n",
    "x_train2 = scenario2.drop(columns = [\"Class\"]).copy()\n",
    "y_train2 = scenario2[\"Class\"]\n",
    "tree = DecisionTreeClassifier()\n",
    "tree.fit(x_train2, y_train2)\n",
    "predictions = tree.predict(x_train2)\n",
    "trainscore_2 = accuracy_score(y_train2, predictions)\n",
    "print('Decision Tree 2 training', trainscore_2)\n",
    "predictions = tree.predict(x_test2)\n",
    "testscore_2 = accuracy_score(y_test2, predictions)\n",
    "print('Decision Tree 2 validation', testscore_2)"
   ]
  },
  {
   "cell_type": "code",
   "execution_count": 12,
   "metadata": {},
   "outputs": [
    {
     "name": "stdout",
     "output_type": "stream",
     "text": [
      "Decision Tree 3 training 1.0\n",
      "Decision Tree 3 validation 0.9040793825799338\n"
     ]
    }
   ],
   "source": [
    "# scenario 3 \n",
    "scenario3 = bean.drop(bean.index[5445:8166])\n",
    "x_test3 = split3.drop(columns = [\"Class\"]).copy()\n",
    "y_test3 = split3[\"Class\"]\n",
    "x_train3 = scenario3.drop(columns = [\"Class\"]).copy()\n",
    "y_train3 = scenario3[\"Class\"]\n",
    "tree = DecisionTreeClassifier()\n",
    "tree.fit(x_train3, y_train3)\n",
    "predictions = tree.predict(x_train3)\n",
    "trainscore_3 = accuracy_score(y_train3, predictions)\n",
    "print('Decision Tree 3 training', trainscore_3)\n",
    "predictions = tree.predict(x_test3)\n",
    "testscore_3 = accuracy_score(y_test3, predictions)\n",
    "print('Decision Tree 3 validation', testscore_3)\n"
   ]
  },
  {
   "cell_type": "code",
   "execution_count": 13,
   "metadata": {},
   "outputs": [
    {
     "name": "stdout",
     "output_type": "stream",
     "text": [
      "Decision Tree 4 training 1.0\n",
      "Decision Tree 4 validation 0.8901542983100661\n"
     ]
    }
   ],
   "source": [
    "# scenario 4\n",
    "scenario4 = bean.drop(bean.index[8167:10888])\n",
    "x_test4 = split4.drop(columns = [\"Class\"]).copy()\n",
    "y_test4 = split4[\"Class\"]\n",
    "x_train4 = scenario4.drop(columns = [\"Class\"]).copy()\n",
    "y_train4 = scenario4[\"Class\"]\n",
    "tree = DecisionTreeClassifier()\n",
    "tree.fit(x_train4, y_train4)\n",
    "predictions = tree.predict(x_train4)\n",
    "trainscore_4 = accuracy_score(y_train4, predictions)\n",
    "print('Decision Tree 4 training', trainscore_4)\n",
    "predictions = tree.predict(x_test4)\n",
    "testscore_4= accuracy_score(y_test4, predictions)\n",
    "print('Decision Tree 4 validation', testscore_4)"
   ]
  },
  {
   "cell_type": "code",
   "execution_count": 14,
   "metadata": {},
   "outputs": [
    {
     "name": "stdout",
     "output_type": "stream",
     "text": [
      "Decision Tree 5 training 1.0\n",
      "Decision Tree 5 validation 0.8975394785163423\n"
     ]
    }
   ],
   "source": [
    "# scenario 5\n",
    "scenario5 = bean.drop(bean.index[10889:])\n",
    "x_test5 = split5.drop(columns = [\"Class\"]).copy()\n",
    "y_test5 = split5[\"Class\"]\n",
    "x_train5 = scenario5.drop(columns = [\"Class\"]).copy()\n",
    "y_train5 = scenario5[\"Class\"]\n",
    "tree = DecisionTreeClassifier()\n",
    "tree.fit(x_train5, y_train5)\n",
    "predictions = tree.predict(x_train5)\n",
    "trainscore_5 = accuracy_score(y_train5, predictions)\n",
    "print('Decision Tree 5 training', trainscore_5)\n",
    "predictions = tree.predict(x_test5)\n",
    "testscore_5 = accuracy_score(y_test5, predictions)\n",
    "print('Decision Tree 5 validation', testscore_5)"
   ]
  },
  {
   "cell_type": "markdown",
   "metadata": {
    "id": "kS0DMKKvgBMK"
   },
   "source": [
    "c) On a same figure, plot the **training performances** and validation performances from different scenarios. Specifically, the x-axis shows the scenarios and the y-axis shows the performance. There should be a line for training performances and a line for validation performance."
   ]
  },
  {
   "cell_type": "code",
   "execution_count": 15,
   "metadata": {
    "id": "Gc_LFj0RgnCL"
   },
   "outputs": [],
   "source": [
    "import matplotlib.pyplot as plt"
   ]
  },
  {
   "cell_type": "code",
   "execution_count": 16,
   "metadata": {},
   "outputs": [
    {
     "name": "stdout",
     "output_type": "stream",
     "text": [
      "[0.896399706098457, 0.8850532500918105, 0.9040793825799338, 0.8901542983100661, 0.8975394785163423]\n"
     ]
    },
    {
     "data": {
      "image/png": "[encoded data removed]",
      "text/plain": [
       "<Figure size 432x288 with 1 Axes>"
      ]
     },
     "metadata": {
      "needs_background": "light"
     },
     "output_type": "display_data"
    }
   ],
   "source": [
    "x = [trainscore_1, trainscore_2, trainscore_3, trainscore_4, trainscore_5]\n",
    "y = [testscore_1, testscore_2, testscore_3, testscore_4, testscore_5]\n",
    "print(y)\n",
    "plt.plot(x, label = \"training performance\")\n",
    "plt.plot(y, label = \"testing performance\")\n",
    "leg = plt.legend(loc='upper right')"
   ]
  },
  {
   "cell_type": "markdown",
   "metadata": {
    "id": "vntnt1KYhNIQ"
   },
   "source": [
    "How do the performances differ across different train-validation splits? How are the validation performances compared to the training performances in general? What may be the reason?"
   ]
  },
  {
   "cell_type": "markdown",
   "metadata": {},
   "source": [
    "The training performances usually return a higher accuracy score while the validation performances are lower. While I was creating the different train-validation scenarios, I noticed that all of my training models were returning a 1.0 accuracy score. This could perhaps be due to overfitting, which then denigrates the accuracy of the validation model. Overfitting of the model could have also led to the differences in performances across the different train-validation splits."
   ]
  },
  {
   "cell_type": "markdown",
   "metadata": {
    "id": "UXaOUZe7ERWo"
   },
   "source": [
    "## Problem 2\n",
    "\n",
    "**Cross-validation** is useful for comparing different algorithms. In a similar way, **cross-validation** can also be used to tune your learning model. If you take a look at the **Scikit-Learn** documentation of **Decision Tree**, you can see there are many parameters that we can specify when initiating a model. These are called **hyper-parameters** because they are not learned by the model but control how the model learns. You can think of the model as a learning machine and the **hyper-parameters** as knobs to configure the machine. Depending on how you choose the values of these **hyper-parameters**, the resulting model may have varying performances. We can use **cross-validation** to compared between different models of the same learning algorithm but with different **hyper-parameter settings**. "
   ]
  },
  {
   "cell_type": "markdown",
   "metadata": {
    "id": "ya7K2NUZjnry"
   },
   "source": [
    "Which values should we specify for the **hyper-parameters** of our learning algorithm? That depends on the task. As data scientists, we need to understand the mearning of each **hyper-parameter** and the effect it may have on the learning process. For this problem, you are free to consult any learning resource but you need to answer in your own words."
   ]
  },
  {
   "cell_type": "markdown",
   "metadata": {
    "id": "wOioPy2Ak3sI"
   },
   "source": [
    "a) Explain the meanings and effects of the following hyper-parameters of **Decision Tree**. The effects mean what happens when you vary the value of a hyper-parameter:\n",
    "\n",
    "\n",
    "Maximum depth:\n",
    "The depth of a decision tree is measured by how many splits the tree makes before coming to a decision or prediction. The maximum depth of a decison tree, therefore, is the longest pathway from the root of the tree (the node starting the graph) to the leaf of the tree (the final decision where the branch doesn't split anymore). On the way up from the root to the leaf, the model goes through different decision nodes, which are essentially questions or places where the tree splits. The deeper that a tree is (meaning, the more decisions or splits it has), means that it has a huge number of splits. A huge number of splits means that the tree may be too complex, and it could lead to overfitting. When you vary the value of a tree's maximum depth, you need to choose a depth that avoids underfitting or overfitting the model. \n",
    "\n",
    "Split criterion:\n",
    "The split criterion for a decision tree is the criteria that we use to split the data for testing and training. In other words, we need to consider what's important to us when we split our data into a training set and a testing set. For example, we could have 3 classes: kiwis, apples, and mangoes. We can split the classes by the criteria that it needs to split into kiwis for testing and apples/mangoes for training, apples for testing and kiwis/mangoes for trianing, and mangoes for testing and kiwis/apples for training. There are a lot of different ways that we can decide on our split criterion, such as considering every twentieth percentile (20%, 40%, 60%, 80%, 100%), or other methods. We want to have split criterion in order to compare split points and choose the best hyper-parameters for our decision tree pathway. If there are too few splits, the tree will be underfit and if there are too many splits, the tree will be overfit. "
   ]
  },
  {
   "cell_type": "markdown",
   "metadata": {
    "id": "_kKEiYvclf9N"
   },
   "source": [
    "b) Explain the meanings and effects of the following hyper-parameters of **Random Forest**. The effects mean what happens when you vary the value of a hyper-parameter:\n",
    "\n",
    "\n",
    "Number of base learners/ estimators:\n",
    "A base learner / estimator in a random forest is each decision tree in a random forest. Each base learner or estimator could yield poor estimates. If we have a random forest, we want to have a huge number of trees, especially if we have weak estimators. Due to the weak law of large numbers, we can see that the ensemble (the random forest) will tend towards a prediction as the number of trees (base learners / estimators) tends towards infinity. Therefore, we want to have a LOT of trees. \n",
    "\n",
    "Maximum number of test features:\n",
    "\"Features\" are some sort of property of our data, for example names, ages, age, etc. They're usually the column names. When we create a random forest, it looks for the best features to use among some random subset of features. This is usually better than just looking for a feaure while we're splitting the node in each individual tree because it introduces a lot more diversity into the model. We can measure the importance of each feature to see which ones we should drop (if they don't contribute too little or nothing at all to the prediction process). If we select a lot of features, then we can increase the strength of each individual tree, while if we select a low number of features, we increase the strength of the forest. "
   ]
  },
  {
   "cell_type": "markdown",
   "metadata": {
    "id": "ite2YRYcET_P"
   },
   "source": [
    "## Problem 3\n",
    "\n",
    "In this problem, we will implement hyper-parameter tuning for both Decision Tree and Random Forest. \n",
    "\n",
    "Remember we distinguished between **test** and **validation** in Problem 1? Here is the reason. Typically, while tuning the hyperparameters, the model is not allowed to see the testing set. If we use the performance of the model on the testing set to guide the hyper-parameter tuning, our model's configuration will be biased towards the examples in the testing set. As a result, our model's testing performance is no longer a proxy for its performance on future unseen data. As a rule of thumb, no test data is allowed during training and tuning a machine learning model.\n",
    "\n",
    "To guide our model through hyper-parameter tuning, we need to further reserve a portion of our data as the **validation set**. In total, we split our data into 3 sets: a **training set**, a **validation set**, and a **test set**. Our model will be trained on the **training set** and evaluated on the **validation set**. Based on the model's **validation performance**, we make changes to the values of its **hyper-parameters**, a.k.a **tuning**, and repeat the train-validation process. Once we are happy with the hyper-parameters of our model, we can now test it on the testing set and use the result as a proxy for future performances.\n",
    "\n",
    "We can do even better. Instead of only one train-validation scenario, we can create multiple train-validation scenarios via **cross-validation**. The **average performance** of the model on the scenarios is used to guide the tuning process.\n",
    "\n",
    "<br>\n",
    "<center>\n",
    "<img src='https://scikit-learn.org/stable/_images/grid_search_cross_validation.png' width=600 height=400>\n",
    "</center>\n",
    "<br>\n",
    "\n",
    "\n",
    "**Hyper-parameter tuning** consists of cross-validation nested within an outer loop that iterates through a list of hyper-parameter combinations. For example, if each hyper-parameter set consists of 2 hyper-parameters **Maximum depth** and **Split criterion**. If we want to check **Maximum depths** in [1,2,3,4,5] and **Split criteria** in [\"gini\",\"entropy\"] then there are **2 x 5 = 10 hyper-parameter combinations**. For each combination, we initiate a model with the corresponding hyper-parameters and record the cross-validation average performance.\n"
   ]
  },
  {
   "cell_type": "markdown",
   "metadata": {
    "id": "WL8csliIjpRs"
   },
   "source": [
    "First, let's again import our data from '**bean.csv**. Split the data into a **training set** (80%) and a **testing set** (20%). We will do **hyper-parameter tuning** via **cross-validation** on the training set."
   ]
  },
  {
   "cell_type": "code",
   "execution_count": 17,
   "metadata": {
    "id": "6coD09jtkIV0"
   },
   "outputs": [],
   "source": [
    "# import beans csv\n",
    "bean = pd.read_csv(\"~/Desktop/class/bean.csv\")\n",
    "\n",
    "# shuffling the data\n",
    "bean = bean.sample(frac=1).reset_index(drop=True)\n",
    "\n",
    "# split data into training/validation set and testing set\n",
    "bean_train = bean.iloc[:10888]\n",
    "bean_test = bean.iloc[10888:]\n",
    "\n",
    "# drop last column to make df x\n",
    "x = bean_train.drop(columns = [\"Class\"]).copy()\n",
    "\n",
    "# select column 17 (class) to make df y\n",
    "y = bean_train[\"Class\"]\n",
    "\n",
    "x_test = bean_test.drop(columns = [\"Class\"]).copy()\n",
    "y_test = bean_test[\"Class\"]\n"
   ]
  },
  {
   "cell_type": "markdown",
   "metadata": {
    "id": "cbMObdLmtq16"
   },
   "source": [
    "a) Let us try a simple tuning for the hyper-parameter Maximum depth of Decision Tree. The values of the depth are in [2,3,5,8,15]. For the cross-validation step, you can use the cross_validate function from Scikit-Learn. Record the average training performance and validating performance for each value of depth."
   ]
  },
  {
   "cell_type": "code",
   "execution_count": 18,
   "metadata": {
    "id": "JoOuOZjVEYJU"
   },
   "outputs": [],
   "source": [
    "from sklearn.tree import DecisionTreeClassifier\n",
    "from sklearn.ensemble import RandomForestClassifier\n",
    "from sklearn import tree\n",
    "from sklearn.model_selection import cross_validate\n",
    "from sklearn.metrics import accuracy_score"
   ]
  },
  {
   "cell_type": "code",
   "execution_count": 19,
   "metadata": {},
   "outputs": [
    {
     "name": "stdout",
     "output_type": "stream",
     "text": [
      "[2, 3, 5, 8, 15] [0.6577195045234255, 0.7750964093724748, 0.8904986463530216, 0.9403012620726713, 0.9932494315157168]\n",
      "[2, 3, 5, 8, 15] [0.6547576234217567, 0.7714915893810954, 0.8798679575645375, 0.8987871364077152, 0.8946543144730809]\n"
     ]
    }
   ],
   "source": [
    "depths = [2,3,5,8,15]\n",
    "depth_train_scores = []\n",
    "depth_valid_scores = []\n",
    "for depth in depths:\n",
    "    tree = DecisionTreeClassifier(max_depth = depth)\n",
    "    scores = cross_validate(estimator=tree, X=x, y=y, cv=5, return_train_score = True)\n",
    "    depth_train_score = np.mean(scores['train_score'])\n",
    "    depth_valid_score = np.mean(scores['test_score'])\n",
    "    depth_train_scores.append(depth_train_score)\n",
    "    depth_valid_scores.append(depth_valid_score)\n",
    "    \n",
    "print(depths, depth_train_scores)\n",
    "print(depths, depth_valid_scores)"
   ]
  },
  {
   "cell_type": "markdown",
   "metadata": {
    "id": "njyrTjG7u6yh"
   },
   "source": [
    "Plot the **training performances** and **testing performances** versus the **maximum depths**. What are the general trends. What may be the reason?"
   ]
  },
  {
   "cell_type": "code",
   "execution_count": 20,
   "metadata": {
    "id": "hNgIJ6UvvJ91"
   },
   "outputs": [
    {
     "data": {
      "text/plain": [
       "(0.63, 1.0)"
      ]
     },
     "execution_count": 20,
     "metadata": {},
     "output_type": "execute_result"
    },
    {
     "data": {
      "image/png": "[encoded data removed]",
      "text/plain": [
       "<Figure size 432x288 with 1 Axes>"
      ]
     },
     "metadata": {
      "needs_background": "light"
     },
     "output_type": "display_data"
    }
   ],
   "source": [
    "y = [2,3,5,8,15]\n",
    "plt.plot(y, depth_train_scores, label = \"training performance\")\n",
    "plt.plot(y, depth_valid_scores, label = \"validation performance\")\n",
    "leg = plt.legend(loc='upper right')\n",
    "plt.ylim([0.63,1])"
   ]
  },
  {
   "cell_type": "markdown",
   "metadata": {},
   "source": [
    "Past a certain point, as the maximum depth of the tree increases, the training performance accuracy score increases wihle the validation performance accuracy score decreases. This may be because a deeper tree means a more complex model, which leads to overfitting of the training model. This overfitting thus leads to a sharp increase in training performance accuracy accompanied by a simultaneous drop in testing performance accuracy. "
   ]
  },
  {
   "cell_type": "markdown",
   "metadata": {
    "id": "th6t87aUjMfG"
   },
   "source": [
    "Finally, test the best model on the testing set and print out the performance. How is the testing performance compared to the cross-validation performance?"
   ]
  },
  {
   "cell_type": "code",
   "execution_count": 21,
   "metadata": {
    "id": "i0JC46DSjZgL"
   },
   "outputs": [
    {
     "name": "stdout",
     "output_type": "stream",
     "text": [
      "Decision Tree depth 5 testing performance 0.8868894601542416\n"
     ]
    }
   ],
   "source": [
    "# depth of 5\n",
    "x = bean_train.drop(columns = [\"Class\"]).copy()\n",
    "y = bean_train[\"Class\"]\n",
    "tree = DecisionTreeClassifier(max_depth=5)\n",
    "tree.fit(x,y)\n",
    "predictions = tree.predict(x_test)\n",
    "test_score = accuracy_score(y_test, predictions)\n",
    "print('Decision Tree depth 5 testing performance', test_score)"
   ]
  },
  {
   "cell_type": "markdown",
   "metadata": {},
   "source": [
    "The testing performance is not as good as the training performance (as expected), but it returns approximately the same accuracy score as the cross-validation performance."
   ]
  },
  {
   "cell_type": "markdown",
   "metadata": {
    "id": "YzxfpiYFvMna"
   },
   "source": [
    "b) Do the same tuning for the hyper-parameter **Number of base learners** of **Random Forest**. The values are in [5,10,15,20,25,30,35,40,45,50]. Record the average training performance and testing performance for each value."
   ]
  },
  {
   "cell_type": "code",
   "execution_count": 22,
   "metadata": {
    "id": "blxKNWrUvL2C"
   },
   "outputs": [
    {
     "name": "stdout",
     "output_type": "stream",
     "text": [
      "[5, 10, 15, 20, 25, 30, 35, 40, 45, 50] [0.9872336216359985, 0.9941219680673485, 0.9971528351197222, 0.9980253532194208, 0.998920833431634, 0.9995178193611123, 0.9995637488581218, 0.9996326246517034, 0.9997015004452848, 0.9998852026173803]\n",
      "[5, 10, 15, 20, 25, 30, 35, 40, 45, 50] [0.9088909304343389, 0.9142173815661099, 0.9155951716606495, 0.9175237572197525, 0.9189020534825856, 0.9204627812344853, 0.9205542711535111, 0.9210138297831956, 0.9201872569601305, 0.9201870038759837]\n"
     ]
    }
   ],
   "source": [
    "number_of_base_learners = [5,10,15,20,25,30,35,40,45,50]\n",
    "base_train_scores = []\n",
    "base_valid_scores = []\n",
    "for base in number_of_base_learners:\n",
    "    tree = RandomForestClassifier(n_estimators = base)\n",
    "    scores = cross_validate(estimator=tree, X=x, y=y, cv=5, return_train_score = True)\n",
    "    base_train_score = np.mean(scores['train_score'])\n",
    "    base_valid_score = np.mean(scores['test_score'])\n",
    "    base_train_scores.append(base_train_score)\n",
    "    base_valid_scores.append(base_valid_score)\n",
    "    \n",
    "print(number_of_base_learners, base_train_scores)\n",
    "print(number_of_base_learners, base_valid_scores)"
   ]
  },
  {
   "cell_type": "markdown",
   "metadata": {
    "id": "q7izHxidvsW-"
   },
   "source": [
    "Plot the **training performances** and **testing performances** versus the **number of base learners**. What are the general trends. What may be the reason?"
   ]
  },
  {
   "cell_type": "code",
   "execution_count": 23,
   "metadata": {
    "id": "JyWl1zSXvvV5"
   },
   "outputs": [
    {
     "data": {
      "image/png": "[encoded data removed]",
      "text/plain": [
       "<Figure size 432x288 with 1 Axes>"
      ]
     },
     "metadata": {
      "needs_background": "light"
     },
     "output_type": "display_data"
    }
   ],
   "source": [
    "number_of_base_learners = [5,10,15,20,25,30,35,40,45,50]\n",
    "plt.plot(number_of_base_learners, base_train_scores, label = \"training performance\")\n",
    "plt.plot(number_of_base_learners, base_valid_scores, label = \"validation performance\")\n",
    "leg = plt.legend(loc='upper right')"
   ]
  },
  {
   "cell_type": "markdown",
   "metadata": {},
   "source": [
    "Generally, as the number of base learners increases, the training and validation performances increase as well. With more trees comes more diversity, as each individual tree learns from a random sample and splits at each node based on a random set of features. As I mentioned prevoiusly (refer to problem 2B), due to the weak law of large numbers, we want a bigger number of base learners, especially if they are weak estimators. "
   ]
  },
  {
   "cell_type": "markdown",
   "metadata": {
    "id": "J8xST_qojc3f"
   },
   "source": [
    "Finally, test the best model on the testing set and print out the performance. How is the testing performance compared to the cross-validation performance?"
   ]
  },
  {
   "cell_type": "code",
   "execution_count": 24,
   "metadata": {
    "id": "jok10aGMjeO8"
   },
   "outputs": [
    {
     "name": "stdout",
     "output_type": "stream",
     "text": [
      "Random Forest 50 Base Learners testing performance 0.927653323540213\n"
     ]
    }
   ],
   "source": [
    "# 50 base learners\n",
    "tree = RandomForestClassifier(n_estimators = 50)\n",
    "tree.fit(x,y)\n",
    "predictions = tree.predict(x_test)\n",
    "test_score = accuracy_score(y_test, predictions)\n",
    "print('Random Forest 50 Base Learners testing performance', test_score)"
   ]
  },
  {
   "cell_type": "markdown",
   "metadata": {},
   "source": [
    "The testing performance yields a lower accuracy score than the training performance, but an approximately equivalent accuracy score to the cross-validation performance. "
   ]
  },
  {
   "cell_type": "markdown",
   "metadata": {
    "id": "4ncaNdNuTtRQ"
   },
   "source": [
    "## Problem 4\n",
    "\n",
    "**This is an open-ended problem**\n",
    "\n",
    "We are going to train a binary classifier for a set of red points and another binary classifier for a set of blue points. \n",
    "\n",
    "You are given a red dataset in '**R.csv**' and a blue dataset in '**B.csv**'."
   ]
  },
  {
   "cell_type": "markdown",
   "metadata": {
    "id": "wDa9zGGrUkYb"
   },
   "source": [
    "a) Load the datasets. All datasets are 2-D with the last column containing the labels. "
   ]
  },
  {
   "cell_type": "code",
   "execution_count": 25,
   "metadata": {
    "id": "J61x9AztUky1"
   },
   "outputs": [],
   "source": [
    "red = pd.read_csv(\"~/Desktop/class/R.csv\")\n",
    "blue = pd.read_csv(\"~/Desktop/class/B.csv\")\n",
    "red_x = red.drop(columns = \"0\")\n",
    "red_y = red[\"0\"]\n",
    "blue_x = blue.drop(columns = \"1\")\n",
    "blue_y = blue[\"1\"]"
   ]
  },
  {
   "cell_type": "markdown",
   "metadata": {
    "id": "RyWq8FdKUlfA"
   },
   "source": [
    "b) Train 2 classifiers, one for the red dataset and the other for the blue dataset. You are free to choose the learning algorithm from Scikit-Learn. "
   ]
  },
  {
   "cell_type": "code",
   "execution_count": 26,
   "metadata": {},
   "outputs": [],
   "source": [
    "from sklearn import svm\n",
    "from sklearn import metrics"
   ]
  },
  {
   "cell_type": "code",
   "execution_count": 50,
   "metadata": {
    "id": "dkPZEyu8UtJn"
   },
   "outputs": [
    {
     "name": "stdout",
     "output_type": "stream",
     "text": [
      "Red Accuracy: 0.96875\n",
      "Blue Accuracy: 0.9375\n",
      "Red Coefficient [[0.05126917 1.76644738]]\n",
      "Blue Coefficient [[0.00389515 1.51133017]]\n",
      "Red Intercept [-1.40695099]\n",
      "Blue Intercept [-0.13824949]\n"
     ]
    }
   ],
   "source": [
    "# train red classifier using svm\n",
    "red_x_train, red_x_test, red_y_train, red_y_test = train_test_split(red_x, red_y, test_size = 0.2)\n",
    "red_classifier = svm.SVC(kernel = 'linear')\n",
    "red_classifier.fit(red_x_train, red_y_train)\n",
    "red_y_predict = red_classifier.predict(red_x_test)\n",
    "print(\"Red Accuracy:\", metrics.accuracy_score(red_y_test, red_y_predict))\n",
    "\n",
    "# train blue classifier using svm\n",
    "blue_x_train, blue_x_test, blue_y_train, blue_y_test = train_test_split(blue_x, blue_y, test_size = 0.2)\n",
    "blue_classifier = svm.SVC(kernel = 'linear')\n",
    "blue_classifier.fit(blue_x_train, blue_y_train)\n",
    "blue_y_predict = blue_classifier.predict(blue_x_test)\n",
    "print(\"Blue Accuracy:\", metrics.accuracy_score(blue_y_test, blue_y_predict))\n",
    "print(\"Red Coefficient\", red_classifier.coef_)\n",
    "print(\"Blue Coefficient\", blue_classifier.coef_)\n",
    "print(\"Red Intercept\", red_classifier.intercept_)\n",
    "print(\"Blue Intercept\", blue_classifier.intercept_)\n"
   ]
  },
  {
   "cell_type": "markdown",
   "metadata": {
    "id": "dRZFPGBzC1TI"
   },
   "source": [
    "What are the **decision boundaries** of the classifiers? Are they the same? What does it tell you about the difference between the **R** population and the **B** population. The **decision boundary** is the values that separate the positive instances from the negative instances. For example, if a classifier decides that all instances with feature value > 5 are positive and all instances with feature value < 5 are negative, then 5 is the decision boundary of that classifier. You can answer by showing/contrasting the decision boundaries on a figure/figures."
   ]
  },
  {
   "cell_type": "markdown",
   "metadata": {},
   "source": [
    "The decision boundary for the R population is the plane satisfying (0.05126917 1.76644738)*x - 1.40695099 = 0.\n",
    "The decision boundary for the B population is the plane satisfying (0.00389515 1.51133017)*x  - 0.13824949 = 0.\n",
    "*asterisk symbol refers to dot product"
   ]
  },
  {
   "cell_type": "markdown",
   "metadata": {
    "id": "lKwJ_xImUxmS"
   },
   "source": [
    "c) Now, imagine that we combine the **R** population and the **B** population into one single population. Given the classifiers that we trained from the previous part, how should the joint classifier be chosen so that it is fair to both groups? How would you express the fairness constraint explicitly? (**Note**: Don't worry about right or wrong here)\n",
    "\n",
    "As a motivation, consider a real example in which you work for a financial company that accepts loan application. You have data of people from two different areas of your city, each with a different social-economic situation. Normally, our company has internal processes to deal with people from either areas (2 classifiers where positive means granting loan and negative means no loan). However, due to COVID-19, we are not in a good financial state right now so we can only grant loans to a limited number of people from either areas. If we only care about profit, we will just give loans to those in the better area, but is it socially fair to those from the other area? How should we adjust/combine our internal processes (the classifiers) to process the applications in a fair way."
   ]
  },
  {
   "cell_type": "markdown",
   "metadata": {
    "id": "-c6WbHEEUw4e"
   },
   "source": [
    "Firstly, I would introduce a categorical variable that distinguishes between the R and B populations. Then, I either manually change the decision boundaries after fitting the model to ensure that the model is fairly distributed, or I can adjust the cost function (the measure of error) if the distribution of assignments leads to unfair outputs. I would do this by calculating the \"unfairness\" and adjust the cost function accordingly."
   ]
  }
 ],
 "metadata": {
  "colab": {
   "name": "Fall21_HW1.ipynb",
   "provenance": []
  },
  "kernelspec": {
   "display_name": "Python 3",
   "language": "python",
   "name": "python3"
  },
  "language_info": {
   "codemirror_mode": {
    "name": "ipython",
    "version": 3
   },
   "file_extension": ".py",
   "mimetype": "text/x-python",
   "name": "python",
   "nbconvert_exporter": "python",
   "pygments_lexer": "ipython3",
   "version": "3.8.8"
  }
 },
 "nbformat": 4,
 "nbformat_minor": 1
}
